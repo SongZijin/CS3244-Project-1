{
  "cells": [
    {
      "cell_type": "code",
      "execution_count": 1,
      "metadata": {
        "id": "FVbkEDG_VogH"
      },
      "outputs": [],
      "source": [
        "import pandas as pd\n",
        "from sklearn.model_selection import train_test_split\n",
        "from sklearn.tree import DecisionTreeClassifier\n",
        "from sklearn.metrics import accuracy_score\n",
        "from sklearn.model_selection import GridSearchCV"
      ]
    },
    {
      "cell_type": "code",
      "execution_count": 2,
      "metadata": {
        "id": "laGRJCWoVxzT"
      },
      "outputs": [],
      "source": [
        "df = pd.read_csv(\"meta-dataset.csv\")"
      ]
    },
    {
      "cell_type": "code",
      "execution_count": 3,
      "metadata": {
        "colab": {
          "base_uri": "https://localhost:8080/",
          "height": 143
        },
        "id": "k2FHiuy5V5jp",
        "outputId": "1802c853-6703-406e-b8c8-f132f976ea55"
      },
      "outputs": [
        {
          "data": {
            "text/html": [
              "<div>\n",
              "<style scoped>\n",
              "    .dataframe tbody tr th:only-of-type {\n",
              "        vertical-align: middle;\n",
              "    }\n",
              "\n",
              "    .dataframe tbody tr th {\n",
              "        vertical-align: top;\n",
              "    }\n",
              "\n",
              "    .dataframe thead th {\n",
              "        text-align: right;\n",
              "    }\n",
              "</style>\n",
              "<table border=\"1\" class=\"dataframe\">\n",
              "  <thead>\n",
              "    <tr style=\"text-align: right;\">\n",
              "      <th></th>\n",
              "      <th>Unnamed: 0</th>\n",
              "      <th>beta_0</th>\n",
              "      <th>beta_1</th>\n",
              "      <th>beta_2</th>\n",
              "      <th>beta_3</th>\n",
              "      <th>beta_4</th>\n",
              "      <th>beta_5</th>\n",
              "      <th>beta_6</th>\n",
              "      <th>beta_7</th>\n",
              "      <th>label</th>\n",
              "    </tr>\n",
              "  </thead>\n",
              "  <tbody>\n",
              "    <tr>\n",
              "      <th>0</th>\n",
              "      <td>0</td>\n",
              "      <td>0.116358</td>\n",
              "      <td>0.134907</td>\n",
              "      <td>0.278246</td>\n",
              "      <td>0.470489</td>\n",
              "      <td>0.0</td>\n",
              "      <td>0.0</td>\n",
              "      <td>0.0</td>\n",
              "      <td>0.0</td>\n",
              "      <td>1</td>\n",
              "    </tr>\n",
              "    <tr>\n",
              "      <th>1</th>\n",
              "      <td>1</td>\n",
              "      <td>0.096939</td>\n",
              "      <td>0.210459</td>\n",
              "      <td>0.269133</td>\n",
              "      <td>0.423469</td>\n",
              "      <td>0.0</td>\n",
              "      <td>0.0</td>\n",
              "      <td>0.0</td>\n",
              "      <td>0.0</td>\n",
              "      <td>1</td>\n",
              "    </tr>\n",
              "    <tr>\n",
              "      <th>2</th>\n",
              "      <td>2</td>\n",
              "      <td>0.067696</td>\n",
              "      <td>0.157957</td>\n",
              "      <td>0.483373</td>\n",
              "      <td>0.290974</td>\n",
              "      <td>0.0</td>\n",
              "      <td>0.0</td>\n",
              "      <td>0.0</td>\n",
              "      <td>0.0</td>\n",
              "      <td>1</td>\n",
              "    </tr>\n",
              "  </tbody>\n",
              "</table>\n",
              "</div>"
            ],
            "text/plain": [
              "   Unnamed: 0    beta_0    beta_1    beta_2    beta_3  beta_4  beta_5  beta_6  \\\n",
              "0           0  0.116358  0.134907  0.278246  0.470489     0.0     0.0     0.0   \n",
              "1           1  0.096939  0.210459  0.269133  0.423469     0.0     0.0     0.0   \n",
              "2           2  0.067696  0.157957  0.483373  0.290974     0.0     0.0     0.0   \n",
              "\n",
              "   beta_7  label  \n",
              "0     0.0      1  \n",
              "1     0.0      1  \n",
              "2     0.0      1  "
            ]
          },
          "execution_count": 3,
          "metadata": {},
          "output_type": "execute_result"
        }
      ],
      "source": [
        "df.head(3)"
      ]
    },
    {
      "cell_type": "code",
      "execution_count": 4,
      "metadata": {
        "id": "6LR54idCV8ns"
      },
      "outputs": [],
      "source": [
        "# Split into X and y\n",
        "X = df.drop(columns = [\"Unnamed: 0\", \"label\"])\n",
        "y = df[\"label\"]"
      ]
    },
    {
      "cell_type": "code",
      "execution_count": 5,
      "metadata": {},
      "outputs": [],
      "source": [
        "# Split data\n",
        "X_train, X_test, y_train, y_test = train_test_split(X, y, test_size=0.15, random_state=123, shuffle=True)"
      ]
    },
    {
      "cell_type": "code",
      "execution_count": 6,
      "metadata": {
        "colab": {
          "base_uri": "https://localhost:8080/"
        },
        "id": "6IDldLN0XaHZ",
        "outputId": "c4a97c20-b2d8-4df6-8052-48fa32feb6cf"
      },
      "outputs": [
        {
          "name": "stdout",
          "output_type": "stream",
          "text": [
            "Model accuracy score with criterion entropy: 0.5882\n"
          ]
        }
      ],
      "source": [
        "clf = DecisionTreeClassifier(criterion=\"entropy\", splitter=\"best\", max_depth=None, min_samples_split=2, min_samples_leaf=1, min_weight_fraction_leaf=0.0, max_features=None, random_state=None, max_leaf_nodes=None, min_impurity_decrease=0.0, class_weight=None, ccp_alpha=0.0)\n",
        "clf.fit(X_train, y_train)\n",
        "y_pred = clf.predict(X_test)\n",
        "print('Model accuracy score with criterion entropy: {0:0.4f}'. format(accuracy_score(y_test, y_pred)))"
      ]
    },
    {
      "cell_type": "code",
      "execution_count": 7,
      "metadata": {
        "id": "ze-Xj7MGXCLe"
      },
      "outputs": [],
      "source": [
        "# Hyperparameter tuning\n",
        "params = {\n",
        "    'max_depth': [2, 3, 4, 5, 6, 7, 8, 9, 10, 11, 12, 13, 14, 20, None],\n",
        "    'criterion': [\"gini\", \"entropy\"],\n",
        "    'min_samples_split': [2, 3, 4, 5, 6, 7, 8, 9, 10, 11, 12, 13, 14, 15, 20, 50],\n",
        "    'class_weight' : [\"balanced\",None],\n",
        "}"
      ]
    },
    {
      "cell_type": "code",
      "execution_count": 8,
      "metadata": {
        "id": "EQq-HeR7aB7h"
      },
      "outputs": [],
      "source": [
        "dt = DecisionTreeClassifier(random_state=42)"
      ]
    },
    {
      "cell_type": "code",
      "execution_count": 9,
      "metadata": {
        "id": "Ytsq-BV3aLpy"
      },
      "outputs": [],
      "source": [
        "grid_search = GridSearchCV(estimator=dt, \n",
        "                           param_grid=params, \n",
        "                           cv=4, n_jobs=-1, verbose=1, scoring = \"accuracy\")"
      ]
    },
    {
      "cell_type": "code",
      "execution_count": 10,
      "metadata": {
        "colab": {
          "base_uri": "https://localhost:8080/"
        },
        "id": "7DA8M13faRrU",
        "outputId": "ebcfcb62-fe3e-4d1a-d72e-9f25be229bd2"
      },
      "outputs": [
        {
          "name": "stdout",
          "output_type": "stream",
          "text": [
            "Fitting 4 folds for each of 960 candidates, totalling 3840 fits\n"
          ]
        },
        {
          "data": {
            "text/plain": [
              "GridSearchCV(cv=4, estimator=DecisionTreeClassifier(random_state=42), n_jobs=-1,\n",
              "             param_grid={'class_weight': ['balanced', None],\n",
              "                         'criterion': ['gini', 'entropy'],\n",
              "                         'max_depth': [2, 3, 4, 5, 6, 7, 8, 9, 10, 11, 12, 13,\n",
              "                                       14, 20, None],\n",
              "                         'min_samples_split': [2, 3, 4, 5, 6, 7, 8, 9, 10, 11,\n",
              "                                               12, 13, 14, 15, 20, 50]},\n",
              "             scoring='accuracy', verbose=1)"
            ]
          },
          "execution_count": 10,
          "metadata": {},
          "output_type": "execute_result"
        }
      ],
      "source": [
        "grid_search.fit(X_train, y_train)"
      ]
    },
    {
      "cell_type": "code",
      "execution_count": 11,
      "metadata": {
        "colab": {
          "base_uri": "https://localhost:8080/"
        },
        "id": "AoVu2-UyaukF",
        "outputId": "b407990a-d326-406f-aa74-15adb59c7659"
      },
      "outputs": [
        {
          "data": {
            "text/plain": [
              "DecisionTreeClassifier(criterion='entropy', max_depth=2, random_state=42)"
            ]
          },
          "execution_count": 11,
          "metadata": {},
          "output_type": "execute_result"
        }
      ],
      "source": [
        "grid_search.best_estimator_"
      ]
    },
    {
      "cell_type": "code",
      "execution_count": 12,
      "metadata": {
        "colab": {
          "base_uri": "https://localhost:8080/"
        },
        "id": "cyYr-cOga1Bi",
        "outputId": "1067dd68-25c6-4090-acee-0b58151463ec"
      },
      "outputs": [
        {
          "name": "stdout",
          "output_type": "stream",
          "text": [
            "Train Accuracy : {} 0.6666666666666666\n",
            "Test accuracy  : {} 0.7647058823529411\n"
          ]
        }
      ],
      "source": [
        "clf_2 = DecisionTreeClassifier(criterion='entropy', max_depth=2, random_state=42)\n",
        "clf_2.fit(X_train, y_train)\n",
        "y_pred_2 = clf_2.predict(X_test)\n",
        "print(\"Train Accuracy : {}\", accuracy_score(y_train, grid_search.predict(X_train)));\n",
        "print('Test accuracy  : {}', accuracy_score(y_test, y_pred_2))"
      ]
    }
  ],
  "metadata": {
    "colab": {
      "provenance": []
    },
    "kernelspec": {
      "display_name": "base",
      "language": "python",
      "name": "python3"
    },
    "language_info": {
      "codemirror_mode": {
        "name": "ipython",
        "version": 3
      },
      "file_extension": ".py",
      "mimetype": "text/x-python",
      "name": "python",
      "nbconvert_exporter": "python",
      "pygments_lexer": "ipython3",
      "version": "3.9.13"
    },
    "vscode": {
      "interpreter": {
        "hash": "78aafff7905b1b9bdaa398332ac48af4b19c02be28dad2cf313ea4ffe637925f"
      }
    }
  },
  "nbformat": 4,
  "nbformat_minor": 0
}
