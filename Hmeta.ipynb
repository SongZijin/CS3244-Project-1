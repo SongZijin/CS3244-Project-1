{
 "cells": [
  {
   "cell_type": "code",
   "execution_count": 1,
   "metadata": {},
   "outputs": [],
   "source": [
    "import csv \n",
    "import numpy as np\n",
    "import pandas as pd\n",
    "from sklearn.model_selection import train_test_split\n",
    "from sklearn.neighbors import KNeighborsClassifier\n",
    "from sklearn.model_selection import KFold\n",
    "from sklearn.model_selection import RepeatedStratifiedKFold\n",
    "from sklearn.model_selection import cross_val_score\n",
    "from sklearn import metrics\n"
   ]
  },
  {
   "cell_type": "code",
   "execution_count": 2,
   "metadata": {},
   "outputs": [],
   "source": [
    "data = []\n",
    "with open('meta-dataset.csv', 'r') as file:\n",
    "    reader = csv.reader(file)\n",
    "    header = next(reader)\n",
    "    for row in reader:\n",
    "        data.append(row[1:])\n",
    "    data = np.array(data)\n",
    "    data = data.astype(float)"
   ]
  },
  {
   "cell_type": "code",
   "execution_count": 3,
   "metadata": {},
   "outputs": [],
   "source": [
    "# Calculate U_yi\n",
    "y = data[:, 8]\n",
    "u = [0] * 3\n",
    "u[0] = (y == 0).sum() - 1\n",
    "u[1] = (y == 1).sum() - 1\n",
    "u[2] = (y == 2).sum() - 1"
   ]
  },
  {
   "cell_type": "code",
   "execution_count": 4,
   "metadata": {},
   "outputs": [],
   "source": [
    "# Pre-calculate NN of all <xi, yi>\n",
    "d = [[] for _ in range(226)] \n",
    "for i in range(len(data)):\n",
    "    a = data[i][0:8]\n",
    "    for j in range(i + 1, len(data)):\n",
    "        b = data[j][0:8]\n",
    "        val = np.sqrt(sum(a * b))\n",
    "        d[i].append(val)\n",
    "        d[j].append(val)\n",
    "\n",
    "for i in range(len(d)):\n",
    "    d[i].sort()\n"
   ]
  },
  {
   "cell_type": "code",
   "execution_count": 5,
   "metadata": {},
   "outputs": [],
   "source": [
    "# Calculate b-values for all <xi, yi>\n",
    "bvalues = [0.0] * 226\n",
    "\n",
    "invd = lambda x : 1.0 / (1.0 + float(x))\n",
    "invd_func = np.vectorize(invd)\n",
    "\n",
    "for i in range(226):\n",
    "    y_val = data[i][8].astype(np.uint8)\n",
    "    pos = u[y_val]\n",
    "    num = d[i][0:pos].copy()\n",
    "    den = d[i].copy()\n",
    "    num = invd_func(num)\n",
    "    den = invd_func(den)\n",
    "    bvalues[i] = np.sum(num) / np.sum(den)\n",
    "\n"
   ]
  },
  {
   "cell_type": "code",
   "execution_count": 6,
   "metadata": {},
   "outputs": [],
   "source": [
    "# Allocate to bins\n",
    "D = pd.read_csv(\"meta-dataset.csv\")\n",
    "x = D.drop(columns=['label', 'Unnamed: 0'])\n",
    "y = D['label']\n",
    "x_train, x_test, y_train, y_test = train_test_split(x, y, random_state = 0)\n",
    "bin = np.zeros(8) \n",
    "for val in bvalues:\n",
    "    num = 7 if val == 1.0 else int(val / 0.125)\n",
    "    bin[num] += 1\n",
    "bin = bin / 226\n",
    "bin = np.array(bin)\n",
    "bin = bin.reshape(1, -1)\n",
    "bin = pd.DataFrame(bin, columns=x.columns)"
   ]
  },
  {
   "cell_type": "code",
   "execution_count": 7,
   "metadata": {},
   "outputs": [
    {
     "name": "stdout",
     "output_type": "stream",
     "text": [
      "The prediction of H*D is:  1\n"
     ]
    }
   ],
   "source": [
    "knn = KNeighborsClassifier(n_neighbors=52, weights='distance', metric='minkowski')\n",
    "knn.fit(x_train, y_train)\n",
    "y_predict = knn.predict(bin)\n",
    "print(\"The prediction of H*D is: \", y_predict[0])"
   ]
  },
  {
   "cell_type": "code",
   "execution_count": 8,
   "metadata": {},
   "outputs": [
    {
     "name": "stdout",
     "output_type": "stream",
     "text": [
      "0.5827573529411765\n",
      "0.8070175438596491\n"
     ]
    }
   ],
   "source": [
    "cv = RepeatedStratifiedKFold(n_repeats=10, n_splits=10, random_state=1)\n",
    "k_prime = KNeighborsClassifier()\n",
    "y_train_scores = cross_val_score(k_prime, x_train, y_train, cv=cv, n_jobs=-1)\n",
    "k_prime.fit(x_train, y_train)\n",
    "y_test_predict = knn.predict(x_test)\n",
    "y_test_score = metrics.accuracy_score(y_test, y_test_predict)\n",
    "print(np.mean(y_train_scores))\n",
    "print(y_test_score)"
   ]
  }
 ],
 "metadata": {
  "kernelspec": {
   "display_name": "base",
   "language": "python",
   "name": "python3"
  },
  "language_info": {
   "codemirror_mode": {
    "name": "ipython",
    "version": 3
   },
   "file_extension": ".py",
   "mimetype": "text/x-python",
   "name": "python",
   "nbconvert_exporter": "python",
   "pygments_lexer": "ipython3",
   "version": "3.9.12"
  },
  "orig_nbformat": 4,
  "vscode": {
   "interpreter": {
    "hash": "0f1b47a963c42b061412fe4d793a38c7e389a819dfdf4008e77d74793cdaf820"
   }
  }
 },
 "nbformat": 4,
 "nbformat_minor": 2
}
