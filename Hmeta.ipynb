{
 "cells": [
  {
   "cell_type": "code",
   "execution_count": 27,
   "metadata": {},
   "outputs": [],
   "source": [
    "import csv \n",
    "import numpy as np"
   ]
  },
  {
   "cell_type": "code",
   "execution_count": 13,
   "metadata": {},
   "outputs": [],
   "source": [
    "data = []\n",
    "with open('meta-dataset.csv', 'r') as file:\n",
    "    reader = csv.reader(file)\n",
    "    header = next(reader)\n",
    "    for row in reader:\n",
    "        data.append(row[1:])\n",
    "    data = np.array(data)\n",
    "    data = data.astype(float)"
   ]
  },
  {
   "cell_type": "code",
   "execution_count": 14,
   "metadata": {},
   "outputs": [],
   "source": [
    "# Calculate U_yi\n",
    "y = data[:, 8]\n",
    "u = [0] * 3\n",
    "u[0] = (y == 0).sum() - 1\n",
    "u[1] = (y == 1).sum() - 1\n",
    "u[2] = (y == 2).sum() - 1"
   ]
  },
  {
   "cell_type": "code",
   "execution_count": 19,
   "metadata": {},
   "outputs": [],
   "source": [
    "# Pre-calculate NN of all <xi, yi>\n",
    "d = [[] for _ in range(226)] \n",
    "for i in range(len(data)):\n",
    "    a = data[i][0:8]\n",
    "    for j in range(i + 1, len(data)):\n",
    "        b = data[j][0:8]\n",
    "        val = np.sqrt(sum(a * b))\n",
    "        d[i].append(val)\n",
    "        d[j].append(val)\n",
    "\n",
    "for i in range(len(d)):\n",
    "    d[i].sort()\n"
   ]
  },
  {
   "cell_type": "code",
   "execution_count": 16,
   "metadata": {},
   "outputs": [],
   "source": [
    "# Calculate b-values for all <xi, yi>\n",
    "bvalues = [0.0] * 226\n",
    "\n",
    "invd = lambda x : 1.0 / (1.0 + float(x))\n",
    "invd_func = np.vectorize(invd)\n",
    "\n",
    "for i in range(226):\n",
    "    y_val = data[i][8].astype(np.uint8)\n",
    "    pos = u[y_val]\n",
    "    num = d[i][0:pos].copy()\n",
    "    den = d[i].copy()\n",
    "    num = invd_func(num)\n",
    "    den = invd_func(den)\n",
    "    bvalues[i] = np.sum(num) / np.sum(den)\n",
    "\n"
   ]
  },
  {
   "cell_type": "code",
   "execution_count": 29,
   "metadata": {},
   "outputs": [],
   "source": [
    "# Allocate to bins\n",
    "bin = np.zeros(8) \n",
    "for val in bvalues:\n",
    "    num = 7 if val == 1.0 else int(val / 0.125)\n",
    "    bin[num] += 1\n",
    "bin = bin / 226"
   ]
  }
 ],
 "metadata": {
  "kernelspec": {
   "display_name": "Python 3.10.9 ('.venv': venv)",
   "language": "python",
   "name": "python3"
  },
  "language_info": {
   "codemirror_mode": {
    "name": "ipython",
    "version": 3
   },
   "file_extension": ".py",
   "mimetype": "text/x-python",
   "name": "python",
   "nbconvert_exporter": "python",
   "pygments_lexer": "ipython3",
   "version": "3.10.9"
  },
  "orig_nbformat": 4,
  "vscode": {
   "interpreter": {
    "hash": "0d6b7b862417767dbce33444ec0dc1fee854ff528315f47645cbb6c3e444c941"
   }
  }
 },
 "nbformat": 4,
 "nbformat_minor": 2
}
